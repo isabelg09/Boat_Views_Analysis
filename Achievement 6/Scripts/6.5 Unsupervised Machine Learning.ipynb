{
 "cells": [
  {
   "cell_type": "markdown",
   "id": "dbcba058",
   "metadata": {},
   "source": [
    "# 6.5 Unsupervised Machine Learning"
   ]
  },
  {
   "cell_type": "markdown",
   "id": "51f82da8",
   "metadata": {},
   "source": [
    "### This script contains the following:\n",
    "\n",
    "#### 1. Importing libraries and data and renaming columns\n",
    "#### 2. The elbow technique\n",
    "#### 3. k-means clustering"
   ]
  },
  {
   "cell_type": "markdown",
   "id": "bab3bf23",
   "metadata": {},
   "source": [
    "## Importing libraries and data and renaming columns"
   ]
  },
  {
   "cell_type": "code",
   "execution_count": 1,
   "id": "9a0c8f4c",
   "metadata": {},
   "outputs": [],
   "source": [
    "import pandas as pd\n",
    "import numpy as np\n",
    "import seaborn as sns\n",
    "import matplotlib\n",
    "import matplotlib.pyplot as plt\n",
    "import os\n",
    "import sklearn\n",
    "from sklearn.cluster import KMeans # Here is where you import the k-means algorithm from scikit-learn.\n",
    "import pylab as pl # PyLab is a convenience module that bulk imports matplotlib."
   ]
  },
  {
   "cell_type": "code",
   "execution_count": 2,
   "id": "82016fd7",
   "metadata": {},
   "outputs": [],
   "source": [
    "# This option ensures the graphs you create are displayed in your notebook without the need to \"call\" them specifically.\n",
    "\n",
    "%matplotlib inline"
   ]
  },
  {
   "cell_type": "code",
   "execution_count": 3,
   "id": "adfbf443",
   "metadata": {},
   "outputs": [],
   "source": [
    "# importing data sets\n",
    "path=r'/Users/isabelgonzalez/Desktop/Data Immersion/Achievement 6'"
   ]
  },
  {
   "cell_type": "code",
   "execution_count": 4,
   "id": "784363f2",
   "metadata": {},
   "outputs": [],
   "source": [
    "df = pd.read_csv(os.path.join(path, 'Data', 'Prepared Data', 'boat_sales_clean.csv'))"
   ]
  },
  {
   "cell_type": "code",
   "execution_count": 5,
   "id": "a689277d",
   "metadata": {},
   "outputs": [
    {
     "data": {
      "text/html": [
       "<div>\n",
       "<style scoped>\n",
       "    .dataframe tbody tr th:only-of-type {\n",
       "        vertical-align: middle;\n",
       "    }\n",
       "\n",
       "    .dataframe tbody tr th {\n",
       "        vertical-align: top;\n",
       "    }\n",
       "\n",
       "    .dataframe thead th {\n",
       "        text-align: right;\n",
       "    }\n",
       "</style>\n",
       "<table border=\"1\" class=\"dataframe\">\n",
       "  <thead>\n",
       "    <tr style=\"text-align: right;\">\n",
       "      <th></th>\n",
       "      <th>Eur Price</th>\n",
       "      <th>Boat Type</th>\n",
       "      <th>Manufacturer</th>\n",
       "      <th>Year Built</th>\n",
       "      <th>Length</th>\n",
       "      <th>Width</th>\n",
       "      <th>Material</th>\n",
       "      <th>Location</th>\n",
       "      <th>Views Last 7 Days</th>\n",
       "      <th>Boat Condition</th>\n",
       "      <th>Engine Type</th>\n",
       "    </tr>\n",
       "  </thead>\n",
       "  <tbody>\n",
       "    <tr>\n",
       "      <th>0</th>\n",
       "      <td>3476.04</td>\n",
       "      <td>Motor Yacht</td>\n",
       "      <td>Rigiflex power boats</td>\n",
       "      <td>2017.0</td>\n",
       "      <td>4.00</td>\n",
       "      <td>1.90</td>\n",
       "      <td>NaN</td>\n",
       "      <td>Switzerland</td>\n",
       "      <td>226</td>\n",
       "      <td>new boat from stock</td>\n",
       "      <td>NaN</td>\n",
       "    </tr>\n",
       "    <tr>\n",
       "      <th>1</th>\n",
       "      <td>3490.00</td>\n",
       "      <td>Center console boat</td>\n",
       "      <td>Terhi power boats</td>\n",
       "      <td>2020.0</td>\n",
       "      <td>4.00</td>\n",
       "      <td>1.50</td>\n",
       "      <td>Thermoplastic</td>\n",
       "      <td>Germany</td>\n",
       "      <td>75</td>\n",
       "      <td>new boat from stock</td>\n",
       "      <td>NaN</td>\n",
       "    </tr>\n",
       "    <tr>\n",
       "      <th>2</th>\n",
       "      <td>3927.08</td>\n",
       "      <td>Sport Boat</td>\n",
       "      <td>Marine power boats</td>\n",
       "      <td>NaN</td>\n",
       "      <td>3.69</td>\n",
       "      <td>1.42</td>\n",
       "      <td>Aluminium</td>\n",
       "      <td>Switzerland</td>\n",
       "      <td>124</td>\n",
       "      <td>new boat from stock</td>\n",
       "      <td>NaN</td>\n",
       "    </tr>\n",
       "    <tr>\n",
       "      <th>3</th>\n",
       "      <td>3481.18</td>\n",
       "      <td>Sport Boat</td>\n",
       "      <td>Pioner power boats</td>\n",
       "      <td>2020.0</td>\n",
       "      <td>3.00</td>\n",
       "      <td>1.00</td>\n",
       "      <td>NaN</td>\n",
       "      <td>Denmark</td>\n",
       "      <td>64</td>\n",
       "      <td>new boat from stock</td>\n",
       "      <td>NaN</td>\n",
       "    </tr>\n",
       "    <tr>\n",
       "      <th>4</th>\n",
       "      <td>3399.00</td>\n",
       "      <td>Fishing Boat</td>\n",
       "      <td>Linder power boats</td>\n",
       "      <td>2019.0</td>\n",
       "      <td>3.55</td>\n",
       "      <td>1.46</td>\n",
       "      <td>Aluminium</td>\n",
       "      <td>Germany</td>\n",
       "      <td>58</td>\n",
       "      <td>new boat from stock</td>\n",
       "      <td>NaN</td>\n",
       "    </tr>\n",
       "  </tbody>\n",
       "</table>\n",
       "</div>"
      ],
      "text/plain": [
       "   Eur Price            Boat Type          Manufacturer  Year Built  Length  \\\n",
       "0    3476.04          Motor Yacht  Rigiflex power boats      2017.0    4.00   \n",
       "1    3490.00  Center console boat     Terhi power boats      2020.0    4.00   \n",
       "2    3927.08           Sport Boat    Marine power boats         NaN    3.69   \n",
       "3    3481.18           Sport Boat    Pioner power boats      2020.0    3.00   \n",
       "4    3399.00         Fishing Boat    Linder power boats      2019.0    3.55   \n",
       "\n",
       "   Width       Material      Location  Views Last 7 Days       Boat Condition  \\\n",
       "0   1.90            NaN  Switzerland                 226  new boat from stock   \n",
       "1   1.50  Thermoplastic       Germany                 75  new boat from stock   \n",
       "2   1.42      Aluminium  Switzerland                 124  new boat from stock   \n",
       "3   1.00            NaN       Denmark                 64  new boat from stock   \n",
       "4   1.46      Aluminium       Germany                 58  new boat from stock   \n",
       "\n",
       "  Engine Type  \n",
       "0         NaN  \n",
       "1         NaN  \n",
       "2         NaN  \n",
       "3         NaN  \n",
       "4         NaN  "
      ]
     },
     "execution_count": 5,
     "metadata": {},
     "output_type": "execute_result"
    }
   ],
   "source": [
    "df.head()"
   ]
  },
  {
   "cell_type": "code",
   "execution_count": 6,
   "id": "2448cfff",
   "metadata": {
    "scrolled": true
   },
   "outputs": [
    {
     "data": {
      "text/html": [
       "<div>\n",
       "<style scoped>\n",
       "    .dataframe tbody tr th:only-of-type {\n",
       "        vertical-align: middle;\n",
       "    }\n",
       "\n",
       "    .dataframe tbody tr th {\n",
       "        vertical-align: top;\n",
       "    }\n",
       "\n",
       "    .dataframe thead th {\n",
       "        text-align: right;\n",
       "    }\n",
       "</style>\n",
       "<table border=\"1\" class=\"dataframe\">\n",
       "  <thead>\n",
       "    <tr style=\"text-align: right;\">\n",
       "      <th></th>\n",
       "      <th>Eur Price</th>\n",
       "      <th>Boat Type</th>\n",
       "      <th>Manufacturer</th>\n",
       "      <th>Year Built</th>\n",
       "      <th>Length</th>\n",
       "      <th>Width</th>\n",
       "      <th>Material</th>\n",
       "      <th>Location</th>\n",
       "      <th>Views Last 7 Days</th>\n",
       "      <th>Boat Condition</th>\n",
       "      <th>Engine Type</th>\n",
       "    </tr>\n",
       "  </thead>\n",
       "  <tbody>\n",
       "    <tr>\n",
       "      <th>2</th>\n",
       "      <td>3927.08</td>\n",
       "      <td>Sport Boat</td>\n",
       "      <td>Marine power boats</td>\n",
       "      <td>NaN</td>\n",
       "      <td>3.69</td>\n",
       "      <td>1.42</td>\n",
       "      <td>Aluminium</td>\n",
       "      <td>Switzerland</td>\n",
       "      <td>124</td>\n",
       "      <td>new boat from stock</td>\n",
       "      <td>NaN</td>\n",
       "    </tr>\n",
       "    <tr>\n",
       "      <th>5</th>\n",
       "      <td>3802.08</td>\n",
       "      <td>Sport Boat</td>\n",
       "      <td>Linder power boats</td>\n",
       "      <td>NaN</td>\n",
       "      <td>4.03</td>\n",
       "      <td>1.56</td>\n",
       "      <td>Aluminium</td>\n",
       "      <td>Switzerland</td>\n",
       "      <td>132</td>\n",
       "      <td>new boat from stock</td>\n",
       "      <td>NaN</td>\n",
       "    </tr>\n",
       "    <tr>\n",
       "      <th>7</th>\n",
       "      <td>3333.33</td>\n",
       "      <td>Sport Boat</td>\n",
       "      <td>NaN</td>\n",
       "      <td>NaN</td>\n",
       "      <td>3.00</td>\n",
       "      <td>NaN</td>\n",
       "      <td>NaN</td>\n",
       "      <td>Denmark</td>\n",
       "      <td>134</td>\n",
       "      <td>Used boat</td>\n",
       "      <td>NaN</td>\n",
       "    </tr>\n",
       "    <tr>\n",
       "      <th>11</th>\n",
       "      <td>3625.00</td>\n",
       "      <td>Fishing Boat</td>\n",
       "      <td>Marine power boats</td>\n",
       "      <td>NaN</td>\n",
       "      <td>4.13</td>\n",
       "      <td>1.41</td>\n",
       "      <td>Aluminium</td>\n",
       "      <td>Switzerland</td>\n",
       "      <td>145</td>\n",
       "      <td>new boat from stock</td>\n",
       "      <td>NaN</td>\n",
       "    </tr>\n",
       "    <tr>\n",
       "      <th>15</th>\n",
       "      <td>4583.33</td>\n",
       "      <td>Deck Boat</td>\n",
       "      <td>Buster power boats</td>\n",
       "      <td>NaN</td>\n",
       "      <td>3.88</td>\n",
       "      <td>1.49</td>\n",
       "      <td>Aluminium</td>\n",
       "      <td>Switzerland</td>\n",
       "      <td>263</td>\n",
       "      <td>new boat from stock</td>\n",
       "      <td>Unleaded</td>\n",
       "    </tr>\n",
       "    <tr>\n",
       "      <th>...</th>\n",
       "      <td>...</td>\n",
       "      <td>...</td>\n",
       "      <td>...</td>\n",
       "      <td>...</td>\n",
       "      <td>...</td>\n",
       "      <td>...</td>\n",
       "      <td>...</td>\n",
       "      <td>...</td>\n",
       "      <td>...</td>\n",
       "      <td>...</td>\n",
       "      <td>...</td>\n",
       "    </tr>\n",
       "    <tr>\n",
       "      <th>9503</th>\n",
       "      <td>5208.33</td>\n",
       "      <td>Pilothouse</td>\n",
       "      <td>Lambro power boats</td>\n",
       "      <td>NaN</td>\n",
       "      <td>6.50</td>\n",
       "      <td>2.45</td>\n",
       "      <td>GRP</td>\n",
       "      <td>Switzerland</td>\n",
       "      <td>550</td>\n",
       "      <td>Used boat</td>\n",
       "      <td>Unleaded</td>\n",
       "    </tr>\n",
       "    <tr>\n",
       "      <th>9506</th>\n",
       "      <td>5197.92</td>\n",
       "      <td>Sport Boat</td>\n",
       "      <td>Pioner power boats</td>\n",
       "      <td>NaN</td>\n",
       "      <td>4.11</td>\n",
       "      <td>1.73</td>\n",
       "      <td>NaN</td>\n",
       "      <td>Switzerland</td>\n",
       "      <td>280</td>\n",
       "      <td>new boat on order</td>\n",
       "      <td>NaN</td>\n",
       "    </tr>\n",
       "    <tr>\n",
       "      <th>9507</th>\n",
       "      <td>5187.50</td>\n",
       "      <td>Sport Boat</td>\n",
       "      <td>Linder power boats</td>\n",
       "      <td>NaN</td>\n",
       "      <td>4.01</td>\n",
       "      <td>1.64</td>\n",
       "      <td>Aluminium</td>\n",
       "      <td>Switzerland</td>\n",
       "      <td>247</td>\n",
       "      <td>new boat from stock</td>\n",
       "      <td>NaN</td>\n",
       "    </tr>\n",
       "    <tr>\n",
       "      <th>9508</th>\n",
       "      <td>5156.25</td>\n",
       "      <td>Sport Boat</td>\n",
       "      <td>Marine power boats</td>\n",
       "      <td>NaN</td>\n",
       "      <td>3.99</td>\n",
       "      <td>1.52</td>\n",
       "      <td>Aluminium</td>\n",
       "      <td>Switzerland</td>\n",
       "      <td>150</td>\n",
       "      <td>new boat from stock</td>\n",
       "      <td>NaN</td>\n",
       "    </tr>\n",
       "    <tr>\n",
       "      <th>9511</th>\n",
       "      <td>4516.00</td>\n",
       "      <td>Sport Boat</td>\n",
       "      <td>NaN</td>\n",
       "      <td>NaN</td>\n",
       "      <td>4.17</td>\n",
       "      <td>1.68</td>\n",
       "      <td>GRP</td>\n",
       "      <td>Germany</td>\n",
       "      <td>94</td>\n",
       "      <td>new boat from stock</td>\n",
       "      <td>NaN</td>\n",
       "    </tr>\n",
       "  </tbody>\n",
       "</table>\n",
       "<p>541 rows × 11 columns</p>\n",
       "</div>"
      ],
      "text/plain": [
       "      Eur Price     Boat Type        Manufacturer  Year Built  Length  Width  \\\n",
       "2       3927.08    Sport Boat  Marine power boats         NaN    3.69   1.42   \n",
       "5       3802.08    Sport Boat  Linder power boats         NaN    4.03   1.56   \n",
       "7       3333.33    Sport Boat                 NaN         NaN    3.00    NaN   \n",
       "11      3625.00  Fishing Boat  Marine power boats         NaN    4.13   1.41   \n",
       "15      4583.33     Deck Boat  Buster power boats         NaN    3.88   1.49   \n",
       "...         ...           ...                 ...         ...     ...    ...   \n",
       "9503    5208.33    Pilothouse  Lambro power boats         NaN    6.50   2.45   \n",
       "9506    5197.92    Sport Boat  Pioner power boats         NaN    4.11   1.73   \n",
       "9507    5187.50    Sport Boat  Linder power boats         NaN    4.01   1.64   \n",
       "9508    5156.25    Sport Boat  Marine power boats         NaN    3.99   1.52   \n",
       "9511    4516.00    Sport Boat                 NaN         NaN    4.17   1.68   \n",
       "\n",
       "       Material      Location  Views Last 7 Days       Boat Condition  \\\n",
       "2     Aluminium  Switzerland                 124  new boat from stock   \n",
       "5     Aluminium  Switzerland                 132  new boat from stock   \n",
       "7           NaN       Denmark                134            Used boat   \n",
       "11    Aluminium  Switzerland                 145  new boat from stock   \n",
       "15    Aluminium  Switzerland                 263  new boat from stock   \n",
       "...         ...           ...                ...                  ...   \n",
       "9503        GRP  Switzerland                 550            Used boat   \n",
       "9506        NaN  Switzerland                 280    new boat on order   \n",
       "9507  Aluminium  Switzerland                 247  new boat from stock   \n",
       "9508  Aluminium  Switzerland                 150  new boat from stock   \n",
       "9511        GRP       Germany                 94  new boat from stock   \n",
       "\n",
       "     Engine Type  \n",
       "2            NaN  \n",
       "5            NaN  \n",
       "7            NaN  \n",
       "11           NaN  \n",
       "15      Unleaded  \n",
       "...          ...  \n",
       "9503    Unleaded  \n",
       "9506         NaN  \n",
       "9507         NaN  \n",
       "9508         NaN  \n",
       "9511         NaN  \n",
       "\n",
       "[541 rows x 11 columns]"
      ]
     },
     "execution_count": 6,
     "metadata": {},
     "output_type": "execute_result"
    }
   ],
   "source": [
    "# Calling all NaN values for Year Built column\n",
    "df_nan = df[df['Year Built'].isnull() == True]\n",
    "\n",
    "df_nan"
   ]
  },
  {
   "cell_type": "code",
   "execution_count": 7,
   "id": "c7762a5c",
   "metadata": {},
   "outputs": [],
   "source": [
    "# Getting rid of all NaN values \n",
    "df_clean = df[df['Year Built'].isnull() == False]"
   ]
  },
  {
   "cell_type": "code",
   "execution_count": 8,
   "id": "9f4cd356",
   "metadata": {},
   "outputs": [
    {
     "data": {
      "text/html": [
       "<div>\n",
       "<style scoped>\n",
       "    .dataframe tbody tr th:only-of-type {\n",
       "        vertical-align: middle;\n",
       "    }\n",
       "\n",
       "    .dataframe tbody tr th {\n",
       "        vertical-align: top;\n",
       "    }\n",
       "\n",
       "    .dataframe thead th {\n",
       "        text-align: right;\n",
       "    }\n",
       "</style>\n",
       "<table border=\"1\" class=\"dataframe\">\n",
       "  <thead>\n",
       "    <tr style=\"text-align: right;\">\n",
       "      <th></th>\n",
       "      <th>Eur Price</th>\n",
       "      <th>Year Built</th>\n",
       "      <th>Views Last 7 Days</th>\n",
       "    </tr>\n",
       "  </thead>\n",
       "  <tbody>\n",
       "    <tr>\n",
       "      <th>0</th>\n",
       "      <td>3476.04</td>\n",
       "      <td>2017.0</td>\n",
       "      <td>226</td>\n",
       "    </tr>\n",
       "    <tr>\n",
       "      <th>1</th>\n",
       "      <td>3490.00</td>\n",
       "      <td>2020.0</td>\n",
       "      <td>75</td>\n",
       "    </tr>\n",
       "    <tr>\n",
       "      <th>3</th>\n",
       "      <td>3481.18</td>\n",
       "      <td>2020.0</td>\n",
       "      <td>64</td>\n",
       "    </tr>\n",
       "    <tr>\n",
       "      <th>4</th>\n",
       "      <td>3399.00</td>\n",
       "      <td>2019.0</td>\n",
       "      <td>58</td>\n",
       "    </tr>\n",
       "    <tr>\n",
       "      <th>6</th>\n",
       "      <td>3750.00</td>\n",
       "      <td>1999.0</td>\n",
       "      <td>474</td>\n",
       "    </tr>\n",
       "    <tr>\n",
       "      <th>...</th>\n",
       "      <td>...</td>\n",
       "      <td>...</td>\n",
       "      <td>...</td>\n",
       "    </tr>\n",
       "    <tr>\n",
       "      <th>9509</th>\n",
       "      <td>5156.25</td>\n",
       "      <td>1984.0</td>\n",
       "      <td>288</td>\n",
       "    </tr>\n",
       "    <tr>\n",
       "      <th>9510</th>\n",
       "      <td>5104.17</td>\n",
       "      <td>1987.0</td>\n",
       "      <td>1116</td>\n",
       "    </tr>\n",
       "    <tr>\n",
       "      <th>9512</th>\n",
       "      <td>4499.00</td>\n",
       "      <td>2020.0</td>\n",
       "      <td>354</td>\n",
       "    </tr>\n",
       "    <tr>\n",
       "      <th>9513</th>\n",
       "      <td>4300.00</td>\n",
       "      <td>2018.0</td>\n",
       "      <td>266</td>\n",
       "    </tr>\n",
       "    <tr>\n",
       "      <th>9514</th>\n",
       "      <td>3937.50</td>\n",
       "      <td>2019.0</td>\n",
       "      <td>194</td>\n",
       "    </tr>\n",
       "  </tbody>\n",
       "</table>\n",
       "<p>8974 rows × 3 columns</p>\n",
       "</div>"
      ],
      "text/plain": [
       "      Eur Price  Year Built  Views Last 7 Days\n",
       "0       3476.04      2017.0                226\n",
       "1       3490.00      2020.0                 75\n",
       "3       3481.18      2020.0                 64\n",
       "4       3399.00      2019.0                 58\n",
       "6       3750.00      1999.0                474\n",
       "...         ...         ...                ...\n",
       "9509    5156.25      1984.0                288\n",
       "9510    5104.17      1987.0               1116\n",
       "9512    4499.00      2020.0                354\n",
       "9513    4300.00      2018.0                266\n",
       "9514    3937.50      2019.0                194\n",
       "\n",
       "[8974 rows x 3 columns]"
      ]
     },
     "execution_count": 8,
     "metadata": {},
     "output_type": "execute_result"
    }
   ],
   "source": [
    "# seperating numerical columns\n",
    "sub = df_clean[['Eur Price','Year Built', 'Views Last 7 Days']]\n",
    "\n",
    "sub"
   ]
  },
  {
   "cell_type": "markdown",
   "id": "c18294a0",
   "metadata": {},
   "source": [
    "## 2. The elbow technique"
   ]
  },
  {
   "cell_type": "code",
   "execution_count": 9,
   "id": "435274bb",
   "metadata": {},
   "outputs": [],
   "source": [
    "num_cl = range(1, 10) # Defines the range of potential clusters in the data.\n",
    "kmeans = [KMeans(n_clusters=i) for i in num_cl] # Defines k-means clusters in the range assigned above."
   ]
  },
  {
   "cell_type": "code",
   "execution_count": 10,
   "id": "37a34ecb",
   "metadata": {},
   "outputs": [
    {
     "data": {
      "text/plain": [
       "[-7392799201530582.0,\n",
       " -3123308454021289.5,\n",
       " -1736102486933974.5,\n",
       " -1008068435864256.1,\n",
       " -656672140786292.9,\n",
       " -464016751296731.44,\n",
       " -321928020245447.3,\n",
       " -234956991746532.1,\n",
       " -181861932767919.44]"
      ]
     },
     "execution_count": 10,
     "metadata": {},
     "output_type": "execute_result"
    }
   ],
   "source": [
    "score = [kmeans[i].fit(sub).score(sub) for i in range(len(kmeans))] # Creates a score that represents \n",
    "# a rate of variation for the given cluster option.\n",
    "\n",
    "score"
   ]
  },
  {
   "cell_type": "code",
   "execution_count": 11,
   "id": "4acd6016",
   "metadata": {},
   "outputs": [
    {
     "data": {
      "image/png": "[encoded data removed]",
      "text/plain": [
       "<Figure size 432x288 with 1 Axes>"
      ]
     },
     "metadata": {
      "needs_background": "light"
     },
     "output_type": "display_data"
    }
   ],
   "source": [
    "# Plot the elbow curve using PyLab.\n",
    "\n",
    "pl.plot(num_cl,score)\n",
    "pl.xlabel('Number of Clusters')\n",
    "pl.ylabel('Score')\n",
    "pl.title('Elbow Curve')\n",
    "pl.show()"
   ]
  },
  {
   "cell_type": "markdown",
   "id": "d22eeee1",
   "metadata": {},
   "source": [
    "#####  Make an informed decision about the number of clusters you’ll use in your k-means algorithm based on the chart.\n",
    "\n",
    "In this chart, there's a large jump from 1 to 4 on the x-axis, but after that, the curve straightens out. This means that the optimal count for clusters is 4."
   ]
  },
  {
   "cell_type": "markdown",
   "id": "e229e0b6",
   "metadata": {},
   "source": [
    "## 3. k-means clustering"
   ]
  },
  {
   "cell_type": "code",
   "execution_count": 12,
   "id": "26411047",
   "metadata": {},
   "outputs": [],
   "source": [
    "# Create the k-means object.\n",
    " \n",
    "kmeans = KMeans(n_clusters = 4)"
   ]
  },
  {
   "cell_type": "code",
   "execution_count": 13,
   "id": "b35cbdba",
   "metadata": {},
   "outputs": [
    {
     "data": {
      "text/plain": [
       "KMeans(n_clusters=4)"
      ]
     },
     "execution_count": 13,
     "metadata": {},
     "output_type": "execute_result"
    }
   ],
   "source": [
    "# Fit the k-means object to the data.\n",
    "\n",
    "kmeans.fit(sub)"
   ]
  },
  {
   "cell_type": "code",
   "execution_count": 14,
   "id": "8de24e39",
   "metadata": {},
   "outputs": [
    {
     "name": "stderr",
     "output_type": "stream",
     "text": [
      "/var/folders/lp/8n1nk7lj0qddf17mns4btfgr0000gn/T/ipykernel_1356/3683309691.py:1: SettingWithCopyWarning: \n",
      "A value is trying to be set on a copy of a slice from a DataFrame.\n",
      "Try using .loc[row_indexer,col_indexer] = value instead\n",
      "\n",
      "See the caveats in the documentation: https://pandas.pydata.org/pandas-docs/stable/user_guide/indexing.html#returning-a-view-versus-a-copy\n",
      "  sub['clusters'] = kmeans.fit_predict(sub)\n"
     ]
    }
   ],
   "source": [
    "sub['clusters'] = kmeans.fit_predict(sub)"
   ]
  },
  {
   "cell_type": "code",
   "execution_count": 15,
   "id": "1e1265aa",
   "metadata": {},
   "outputs": [
    {
     "data": {
      "text/html": [
       "<div>\n",
       "<style scoped>\n",
       "    .dataframe tbody tr th:only-of-type {\n",
       "        vertical-align: middle;\n",
       "    }\n",
       "\n",
       "    .dataframe tbody tr th {\n",
       "        vertical-align: top;\n",
       "    }\n",
       "\n",
       "    .dataframe thead th {\n",
       "        text-align: right;\n",
       "    }\n",
       "</style>\n",
       "<table border=\"1\" class=\"dataframe\">\n",
       "  <thead>\n",
       "    <tr style=\"text-align: right;\">\n",
       "      <th></th>\n",
       "      <th>Eur Price</th>\n",
       "      <th>Year Built</th>\n",
       "      <th>Views Last 7 Days</th>\n",
       "      <th>clusters</th>\n",
       "    </tr>\n",
       "  </thead>\n",
       "  <tbody>\n",
       "    <tr>\n",
       "      <th>0</th>\n",
       "      <td>3476.04</td>\n",
       "      <td>2017.0</td>\n",
       "      <td>226</td>\n",
       "      <td>0</td>\n",
       "    </tr>\n",
       "    <tr>\n",
       "      <th>1</th>\n",
       "      <td>3490.00</td>\n",
       "      <td>2020.0</td>\n",
       "      <td>75</td>\n",
       "      <td>0</td>\n",
       "    </tr>\n",
       "    <tr>\n",
       "      <th>3</th>\n",
       "      <td>3481.18</td>\n",
       "      <td>2020.0</td>\n",
       "      <td>64</td>\n",
       "      <td>0</td>\n",
       "    </tr>\n",
       "    <tr>\n",
       "      <th>4</th>\n",
       "      <td>3399.00</td>\n",
       "      <td>2019.0</td>\n",
       "      <td>58</td>\n",
       "      <td>0</td>\n",
       "    </tr>\n",
       "    <tr>\n",
       "      <th>6</th>\n",
       "      <td>3750.00</td>\n",
       "      <td>1999.0</td>\n",
       "      <td>474</td>\n",
       "      <td>0</td>\n",
       "    </tr>\n",
       "  </tbody>\n",
       "</table>\n",
       "</div>"
      ],
      "text/plain": [
       "   Eur Price  Year Built  Views Last 7 Days  clusters\n",
       "0    3476.04      2017.0                226         0\n",
       "1    3490.00      2020.0                 75         0\n",
       "3    3481.18      2020.0                 64         0\n",
       "4    3399.00      2019.0                 58         0\n",
       "6    3750.00      1999.0                474         0"
      ]
     },
     "execution_count": 15,
     "metadata": {},
     "output_type": "execute_result"
    }
   ],
   "source": [
    "sub.head()"
   ]
  },
  {
   "cell_type": "code",
   "execution_count": 16,
   "id": "fab33a0a",
   "metadata": {
    "scrolled": false
   },
   "outputs": [
    {
     "data": {
      "text/plain": [
       "0    8493\n",
       "3     414\n",
       "1      59\n",
       "2       8\n",
       "Name: clusters, dtype: int64"
      ]
     },
     "execution_count": 16,
     "metadata": {},
     "output_type": "execute_result"
    }
   ],
   "source": [
    "sub['clusters'].value_counts()"
   ]
  },
  {
   "cell_type": "code",
   "execution_count": 17,
   "id": "c9ec0481",
   "metadata": {
    "scrolled": true
   },
   "outputs": [
    {
     "data": {
      "image/png": "[encoded data removed]",
      "text/plain": [
       "<Figure size 864x576 with 1 Axes>"
      ]
     },
     "metadata": {
      "needs_background": "light"
     },
     "output_type": "display_data"
    }
   ],
   "source": [
    "# Plot the clusters for the \"Price per Unit\" and \"D.metro\" variables.\n",
    "\n",
    "plt.figure(figsize=(12,8))\n",
    "ax = sns.scatterplot(x=sub['Eur Price'], y=sub['Views Last 7 Days'], hue=kmeans.labels_, s=100) \n",
    "# Here, you're subsetting `X` for the x and y arguments to avoid using their labels. \n",
    "# `hue` takes the value of the attribute `kmeans.labels_`, which is the result of running the k-means algorithm.\n",
    "# `s` represents the size of the points you want to see in the plot.\n",
    "\n",
    "ax.grid(False) # This removes the grid from the background.\n",
    "plt.xlabel('Price') # Label x-axis.\n",
    "plt.ylabel('Views in the last 7 days') # Label y-axis.\n",
    "plt.show()"
   ]
  },
  {
   "cell_type": "markdown",
   "id": "3442f007",
   "metadata": {},
   "source": [
    "##### Discuss how and why the clusters make sense. If they don’t make sense, however, this is also useful insight, as it means you’ll need to explore the data further.\n",
    "\n",
    "The clusters make sense because you can see they are clustered into price groups, light pink(0) being the cheapest group and pink(1) being the most expensive. As the price groups increase you can see the price of the boats lower."
   ]
  },
  {
   "cell_type": "code",
   "execution_count": 18,
   "id": "b51c7b65",
   "metadata": {},
   "outputs": [
    {
     "data": {
      "image/png": "[encoded data removed]",
      "text/plain": [
       "<Figure size 864x576 with 1 Axes>"
      ]
     },
     "metadata": {
      "needs_background": "light"
     },
     "output_type": "display_data"
    }
   ],
   "source": [
    "# Plot the clusters for the \"Price per Unit\" and \"D.metro\" variables.\n",
    "\n",
    "plt.figure(figsize=(12,8))\n",
    "ax = sns.scatterplot(x=sub['Year Built'], y=sub['Eur Price'], hue=kmeans.labels_, s=100) \n",
    "# Here, you're subsetting `X` for the x and y arguments to avoid using their labels. \n",
    "# `hue` takes the value of the attribute `kmeans.labels_`, which is the result of running the k-means algorithm.\n",
    "# `s` represents the size of the points you want to see in the plot.\n",
    "\n",
    "ax.grid(False) # This removes the grid from the background.\n",
    "plt.xlabel('Year boat was built') # Label x-axis.\n",
    "plt.ylabel('Price') # Label y-axis.\n",
    "plt.show()"
   ]
  },
  {
   "cell_type": "markdown",
   "id": "d932e9a6",
   "metadata": {},
   "source": [
    "##### Discuss how and why the clusters make sense. If they don’t make sense, however, this is also useful insight, as it means you’ll need to explore the data further.\n",
    "\n",
    "The clusters make sense because you can see they are clustered into price groups again, light pink(0) being the cheapest group and pink(1) being the most expensive. With each increase in the price groups you can see less and less older boats. "
   ]
  },
  {
   "cell_type": "markdown",
   "id": "b4257beb",
   "metadata": {},
   "source": [
    "#### Discuss how and why the clusters make sense. If they don’t make sense, however, this is also useful insight, as it means you’ll need to explore the data further."
   ]
  },
  {
   "cell_type": "code",
   "execution_count": 19,
   "id": "2ee3db9b",
   "metadata": {},
   "outputs": [
    {
     "name": "stderr",
     "output_type": "stream",
     "text": [
      "/var/folders/lp/8n1nk7lj0qddf17mns4btfgr0000gn/T/ipykernel_1356/3925347488.py:1: SettingWithCopyWarning: \n",
      "A value is trying to be set on a copy of a slice from a DataFrame.\n",
      "Try using .loc[row_indexer,col_indexer] = value instead\n",
      "\n",
      "See the caveats in the documentation: https://pandas.pydata.org/pandas-docs/stable/user_guide/indexing.html#returning-a-view-versus-a-copy\n",
      "  sub.loc[sub['clusters'] == 3, 'clusters'] = 'dark purple'\n"
     ]
    }
   ],
   "source": [
    "sub.loc[sub['clusters'] == 3, 'clusters'] = 'dark purple'\n",
    "sub.loc[sub['clusters'] == 2, 'clusters'] = 'purple'\n",
    "sub.loc[sub['clusters'] == 1, 'clusters'] = 'pink'\n",
    "sub.loc[sub['clusters'] == 0, 'clusters'] = 'light pink'"
   ]
  },
  {
   "cell_type": "code",
   "execution_count": 20,
   "id": "9a0cd6d8",
   "metadata": {},
   "outputs": [
    {
     "data": {
      "text/html": [
       "<div>\n",
       "<style scoped>\n",
       "    .dataframe tbody tr th:only-of-type {\n",
       "        vertical-align: middle;\n",
       "    }\n",
       "\n",
       "    .dataframe tbody tr th {\n",
       "        vertical-align: top;\n",
       "    }\n",
       "\n",
       "    .dataframe thead tr th {\n",
       "        text-align: left;\n",
       "    }\n",
       "\n",
       "    .dataframe thead tr:last-of-type th {\n",
       "        text-align: right;\n",
       "    }\n",
       "</style>\n",
       "<table border=\"1\" class=\"dataframe\">\n",
       "  <thead>\n",
       "    <tr>\n",
       "      <th></th>\n",
       "      <th colspan=\"2\" halign=\"left\">Eur Price</th>\n",
       "      <th colspan=\"2\" halign=\"left\">Year Built</th>\n",
       "      <th colspan=\"2\" halign=\"left\">Views Last 7 Days</th>\n",
       "    </tr>\n",
       "    <tr>\n",
       "      <th></th>\n",
       "      <th>mean</th>\n",
       "      <th>median</th>\n",
       "      <th>mean</th>\n",
       "      <th>median</th>\n",
       "      <th>mean</th>\n",
       "      <th>median</th>\n",
       "    </tr>\n",
       "    <tr>\n",
       "      <th>clusters</th>\n",
       "      <th></th>\n",
       "      <th></th>\n",
       "      <th></th>\n",
       "      <th></th>\n",
       "      <th></th>\n",
       "      <th></th>\n",
       "    </tr>\n",
       "  </thead>\n",
       "  <tbody>\n",
       "    <tr>\n",
       "      <th>dark purple</th>\n",
       "      <td>1.677449e+06</td>\n",
       "      <td>1450000.0</td>\n",
       "      <td>2011.246377</td>\n",
       "      <td>2012.0</td>\n",
       "      <td>111.871981</td>\n",
       "      <td>92.0</td>\n",
       "    </tr>\n",
       "    <tr>\n",
       "      <th>light pink</th>\n",
       "      <td>1.566137e+05</td>\n",
       "      <td>86900.0</td>\n",
       "      <td>2004.414341</td>\n",
       "      <td>2007.0</td>\n",
       "      <td>151.374897</td>\n",
       "      <td>109.0</td>\n",
       "    </tr>\n",
       "    <tr>\n",
       "      <th>pink</th>\n",
       "      <td>6.677465e+06</td>\n",
       "      <td>5900000.0</td>\n",
       "      <td>2013.288136</td>\n",
       "      <td>2015.0</td>\n",
       "      <td>165.016949</td>\n",
       "      <td>124.0</td>\n",
       "    </tr>\n",
       "    <tr>\n",
       "      <th>purple</th>\n",
       "      <td>1.975312e+07</td>\n",
       "      <td>16825000.0</td>\n",
       "      <td>2014.375000</td>\n",
       "      <td>2020.0</td>\n",
       "      <td>335.500000</td>\n",
       "      <td>262.0</td>\n",
       "    </tr>\n",
       "  </tbody>\n",
       "</table>\n",
       "</div>"
      ],
      "text/plain": [
       "                Eur Price               Year Built         Views Last 7 Days  \\\n",
       "                     mean      median         mean  median              mean   \n",
       "clusters                                                                       \n",
       "dark purple  1.677449e+06   1450000.0  2011.246377  2012.0        111.871981   \n",
       "light pink   1.566137e+05     86900.0  2004.414341  2007.0        151.374897   \n",
       "pink         6.677465e+06   5900000.0  2013.288136  2015.0        165.016949   \n",
       "purple       1.975312e+07  16825000.0  2014.375000  2020.0        335.500000   \n",
       "\n",
       "                    \n",
       "            median  \n",
       "clusters            \n",
       "dark purple   92.0  \n",
       "light pink   109.0  \n",
       "pink         124.0  \n",
       "purple       262.0  "
      ]
     },
     "execution_count": 20,
     "metadata": {},
     "output_type": "execute_result"
    }
   ],
   "source": [
    "sub.groupby('clusters').agg({'Eur Price':['mean', 'median'], \n",
    "                         'Year Built':['mean', 'median'], \n",
    "                          'Views Last 7 Days':['mean', 'median']})"
   ]
  },
  {
   "cell_type": "markdown",
   "id": "7e4dfb85",
   "metadata": {},
   "source": [
    "#### Calculate the descriptive statistics for your clusters using the groupby() function and discuss your findings. Propose what these results could be useful for in future steps of an analytics pipeline."
   ]
  },
  {
   "cell_type": "markdown",
   "id": "1aeee4a5",
   "metadata": {},
   "source": [
    "I found that the highest price boats are also built more recently and are prone to get less views than the cheaper boats."
   ]
  },
  {
   "cell_type": "code",
   "execution_count": 21,
   "id": "d9da5096",
   "metadata": {},
   "outputs": [
    {
     "data": {
      "text/html": [
       "<div>\n",
       "<style scoped>\n",
       "    .dataframe tbody tr th:only-of-type {\n",
       "        vertical-align: middle;\n",
       "    }\n",
       "\n",
       "    .dataframe tbody tr th {\n",
       "        vertical-align: top;\n",
       "    }\n",
       "\n",
       "    .dataframe thead th {\n",
       "        text-align: right;\n",
       "    }\n",
       "</style>\n",
       "<table border=\"1\" class=\"dataframe\">\n",
       "  <thead>\n",
       "    <tr style=\"text-align: right;\">\n",
       "      <th></th>\n",
       "      <th>Eur Price</th>\n",
       "      <th>Year Built</th>\n",
       "      <th>Views Last 7 Days</th>\n",
       "      <th>clusters</th>\n",
       "    </tr>\n",
       "  </thead>\n",
       "  <tbody>\n",
       "    <tr>\n",
       "      <th>0</th>\n",
       "      <td>3476.04</td>\n",
       "      <td>2017.0</td>\n",
       "      <td>226</td>\n",
       "      <td>light pink</td>\n",
       "    </tr>\n",
       "    <tr>\n",
       "      <th>1</th>\n",
       "      <td>3490.00</td>\n",
       "      <td>2020.0</td>\n",
       "      <td>75</td>\n",
       "      <td>light pink</td>\n",
       "    </tr>\n",
       "    <tr>\n",
       "      <th>3</th>\n",
       "      <td>3481.18</td>\n",
       "      <td>2020.0</td>\n",
       "      <td>64</td>\n",
       "      <td>light pink</td>\n",
       "    </tr>\n",
       "    <tr>\n",
       "      <th>4</th>\n",
       "      <td>3399.00</td>\n",
       "      <td>2019.0</td>\n",
       "      <td>58</td>\n",
       "      <td>light pink</td>\n",
       "    </tr>\n",
       "    <tr>\n",
       "      <th>6</th>\n",
       "      <td>3750.00</td>\n",
       "      <td>1999.0</td>\n",
       "      <td>474</td>\n",
       "      <td>light pink</td>\n",
       "    </tr>\n",
       "  </tbody>\n",
       "</table>\n",
       "</div>"
      ],
      "text/plain": [
       "   Eur Price  Year Built  Views Last 7 Days    clusters\n",
       "0    3476.04      2017.0                226  light pink\n",
       "1    3490.00      2020.0                 75  light pink\n",
       "3    3481.18      2020.0                 64  light pink\n",
       "4    3399.00      2019.0                 58  light pink\n",
       "6    3750.00      1999.0                474  light pink"
      ]
     },
     "execution_count": 21,
     "metadata": {},
     "output_type": "execute_result"
    }
   ],
   "source": [
    "sub.head()"
   ]
  },
  {
   "cell_type": "code",
   "execution_count": 22,
   "id": "34bc129f",
   "metadata": {},
   "outputs": [],
   "source": [
    "sub.to_csv(os.path.join(path, 'Data','Prepared Data', 'clusters.csv'))"
   ]
  },
  {
   "cell_type": "code",
   "execution_count": null,
   "id": "cf721488",
   "metadata": {},
   "outputs": [],
   "source": []
  }
 ],
 "metadata": {
  "kernelspec": {
   "display_name": "Python 3 (ipykernel)",
   "language": "python",
   "name": "python3"
  },
  "language_info": {
   "codemirror_mode": {
    "name": "ipython",
    "version": 3
   },
   "file_extension": ".py",
   "mimetype": "text/x-python",
   "name": "python",
   "nbconvert_exporter": "python",
   "pygments_lexer": "ipython3",
   "version": "3.9.12"
  }
 },
 "nbformat": 4,
 "nbformat_minor": 5
}
